{
 "cells": [
  {
   "cell_type": "code",
   "execution_count": 1,
   "metadata": {},
   "outputs": [],
   "source": [
    "#include <iostream>\n",
    "#include <fstream>\n",
    "#include <string>"
   ]
  },
  {
   "cell_type": "code",
   "execution_count": 2,
   "metadata": {},
   "outputs": [],
   "source": [
    "void append_numbers(std::vector<double> &first, std::vector<double> &second, \n",
    "                    std::vector<double> &third, std::vector<double> &fourth,\n",
    "                   string &line) {\n",
    "    int num_spaces = 0;\n",
    "    string first_number;\n",
    "    string second_number;\n",
    "    string third_number;\n",
    "    string fourth_number;\n",
    "    for (int i=0; i < line.size(); i++) {\n",
    "        if (num_spaces == 4) {\n",
    "            first_number.push_back(line[i]);\n",
    "        }\n",
    "        if (num_spaces == 5) {\n",
    "            second_number.push_back(line[i]);\n",
    "        }\n",
    "        if (num_spaces == 6) {\n",
    "            third_number.push_back(line[i]);\n",
    "        }\n",
    "        if (num_spaces == 7) {\n",
    "            fourth_number.push_back(line[i]);\n",
    "        }\n",
    "\n",
    "        if (line[i] == ' ') {\n",
    "            num_spaces++;\n",
    "        }\n",
    "    }\n",
    "    \n",
    "    first.push_back(std::stod(first_number));\n",
    "    second.push_back(std::stod(second_number));\n",
    "    third.push_back(std::stod(third_number));\n",
    "    fourth.push_back(std::stod(fourth_number));\n",
    "}"
   ]
  },
  {
   "cell_type": "code",
   "execution_count": 3,
   "metadata": {},
   "outputs": [],
   "source": [
    "TKDTreeBinning test;"
   ]
  },
  {
   "cell_type": "code",
   "execution_count": 4,
   "metadata": {},
   "outputs": [],
   "source": [
    "std::ifstream myfile (\"../shuffled_data.txt\"); \n",
    "//std::ifstream myfile (\"../data/processed/newPartonMatchedJetsNoRecoPtCut.txt\"); "
   ]
  },
  {
   "cell_type": "code",
   "execution_count": 5,
   "metadata": {},
   "outputs": [],
   "source": [
    "int num_data_points = 450000;\n",
    "std::vector<double> Pt;\n",
    "std::vector<double> eta;\n",
    "std::vector<double> phi;\n",
    "std::vector<double> E;\n",
    "int loop = 0;\n",
    "string line;\n",
    "if (myfile.is_open()) \n",
    "    {\n",
    "    // skip past first two lines\n",
    "    getline (myfile,line); \n",
    "    getline (myfile,line); \n",
    "        while (loop < num_data_points) \n",
    "        {\n",
    "            getline (myfile,line); \n",
    "            append_numbers(Pt, eta, phi, E, line);\n",
    "            loop++;\n",
    "        }\n",
    "        myfile.close(); \n",
    "    }"
   ]
  },
  {
   "cell_type": "code",
   "execution_count": 6,
   "metadata": {},
   "outputs": [
    {
     "name": "stdout",
     "output_type": "stream",
     "text": [
      "36.346\n"
     ]
    }
   ],
   "source": [
    "std::cout << Pt[3] << std::endl;"
   ]
  },
  {
   "cell_type": "code",
   "execution_count": 7,
   "metadata": {},
   "outputs": [],
   "source": [
    "std::vector<double> data_vec;\n",
    "data_vec.insert(data_vec.end(), Pt.begin(), Pt.end());\n",
    "data_vec.insert(data_vec.end(), eta.begin(), eta.end());\n",
    "data_vec.insert(data_vec.end(), phi.begin(), phi.end());\n",
    "data_vec.insert(data_vec.end(), E.begin(), E.end());"
   ]
  },
  {
   "cell_type": "code",
   "execution_count": 8,
   "metadata": {},
   "outputs": [
    {
     "name": "stdout",
     "output_type": "stream",
     "text": [
      "1800000\n"
     ]
    }
   ],
   "source": [
    "std::cout << data_vec.size() << std::endl;"
   ]
  },
  {
   "cell_type": "code",
   "execution_count": 9,
   "metadata": {},
   "outputs": [],
   "source": [
    "int num_bins = 300;\n",
    "TKDTreeBinning test = TKDTreeBinning(num_data_points, 4, data_vec, num_bins);"
   ]
  },
  {
   "cell_type": "code",
   "execution_count": 10,
   "metadata": {},
   "outputs": [
    {
     "name": "stdout",
     "output_type": "stream",
     "text": [
      "1500\n"
     ]
    }
   ],
   "source": [
    "std::cout << test.GetBinContent(0) << std::endl;"
   ]
  },
  {
   "cell_type": "code",
   "execution_count": 11,
   "metadata": {},
   "outputs": [],
   "source": [
    "std::ofstream write_out;\n",
    "write_out.open(\"../shuffled_bins.txt\");\n",
    "for (int i = 0; i < num_bins; i++) {\n",
    "    std::pair<const Double_t *, const Double_t * > edges =  test.GetBinEdges(i);\n",
    "    for (int j = 0; j < 4; j++){\n",
    "        write_out << *(edges.first + j) << \" \";\n",
    "    }\n",
    "    for (int j = 0; j < 4; j++){\n",
    "        write_out << *(edges.second + j) << \" \";\n",
    "    }\n",
    "    write_out << std::endl;\n",
    "}\n",
    "write_out.close();"
   ]
  },
  {
   "cell_type": "code",
   "execution_count": null,
   "metadata": {},
   "outputs": [],
   "source": []
  }
 ],
 "metadata": {
  "kernelspec": {
   "display_name": "ROOT C++",
   "language": "c++",
   "name": "root"
  },
  "language_info": {
   "codemirror_mode": "text/x-c++src",
   "file_extension": ".C",
   "mimetype": " text/x-c++src",
   "name": "c++"
  }
 },
 "nbformat": 4,
 "nbformat_minor": 4
}
