{
 "cells": [
  {
   "cell_type": "code",
   "execution_count": 1,
   "metadata": {},
   "outputs": [],
   "source": [
    "import tensorflow as tf\n",
    "import numpy as np\n",
    "import matplotlib.pyplot as plt\n",
    "from tensorflow import keras\n",
    "import os\n",
    "import sys\n",
    "from numpy import pi\n",
    "from scipy.stats import ks_2samp"
   ]
  },
  {
   "cell_type": "code",
   "execution_count": 2,
   "metadata": {},
   "outputs": [],
   "source": [
    "def normal_dist(x, mean, std_dev):\n",
    "    return (1/(np.sqrt(2*pi)))*np.exp(-0.5*((x - mean)/std_dev)**2)"
   ]
  },
  {
   "cell_type": "code",
   "execution_count": 3,
   "metadata": {},
   "outputs": [
    {
     "name": "stdout",
     "output_type": "stream",
     "text": [
      "\n"
     ]
    }
   ],
   "source": [
    "os.environ['CUDA_VISIBLE_DEVICES'] = ''\n",
    "print(os.environ['CUDA_VISIBLE_DEVICES'])"
   ]
  },
  {
   "cell_type": "code",
   "execution_count": 4,
   "metadata": {},
   "outputs": [],
   "source": [
    "sys.path.append('../models/cWGAN/Run_2021-03-21_0/')\n",
    "import cWGAN"
   ]
  },
  {
   "cell_type": "code",
   "execution_count": 5,
   "metadata": {},
   "outputs": [],
   "source": [
    "save_dir = '../models/cWGAN/Run_2021-03-21_0/'\n",
    "assert(os.path.isdir(save_dir))"
   ]
  },
  {
   "cell_type": "code",
   "execution_count": 6,
   "metadata": {},
   "outputs": [],
   "source": [
    "data = np.loadtxt(\"../data/processed/newPartonMatchedJetsNoRecoPtCut.txt\", skiprows=2)"
   ]
  },
  {
   "cell_type": "code",
   "execution_count": 7,
   "metadata": {},
   "outputs": [],
   "source": [
    "np.random.shuffle(data)\n",
    "np.savetxt('../shuffled_data.txt', data)"
   ]
  },
  {
   "cell_type": "code",
   "execution_count": 8,
   "metadata": {},
   "outputs": [],
   "source": [
    "partonMean = np.mean(data[:, 1:3], axis=0)\n",
    "partonStd = np.std(data[:, 1:3], axis=0)\n",
    "\n",
    "partonPtMin = np.min(data[:, 0], axis=0)\n",
    "partonEMin = np.min(data[:, 3], axis=0)\n",
    "pfMean = np.mean(data[:, 5:7], axis=0)\n",
    "pfStd = np.std(data[:, 5:7], axis=0)\n",
    "pfPtMin = np.min(data[:, 4], axis=0)\n",
    "pfEMin = np.min(data[:, 7], axis=0)\n",
    "\n",
    "normalized_data = np.zeros((len(data), 4))\n",
    "reco_data = np.zeros((len(data), 4))\n",
    "\n",
    "# for log scaling\n",
    "np.log10(data[:, 0], out=normalized_data[:, 0])\n",
    "np.log10(data[:, 3], out=normalized_data[:, 3])\n",
    "np.log10(data[:, 4], out=reco_data[:, 0])\n",
    "np.log10(data[:, 7], out=reco_data[:, 3])\n",
    "\n",
    "normalized_data[:, 1:3] = data[:, 1:3]\n",
    "reco_data[:, 1:3] = data[:, 5:7]\n",
    "\n",
    "normalized_mean = np.mean(normalized_data, axis=0)\n",
    "normalized_std = np.std(normalized_data, axis=0)\n",
    "reco_mean = np.mean(reco_data, axis=0)\n",
    "reco_std = np.std(reco_data, axis=0)\n",
    "\n",
    "normalized_data = (normalized_data - normalized_mean) / normalized_std"
   ]
  },
  {
   "cell_type": "code",
   "execution_count": 9,
   "metadata": {},
   "outputs": [],
   "source": [
    "cwgan = cWGAN.cWGAN(10, \"RMSprop\", 0.000002, 0.00001, 10, False, \"\", 0)"
   ]
  },
  {
   "cell_type": "code",
   "execution_count": 10,
   "metadata": {},
   "outputs": [
    {
     "data": {
      "text/plain": [
       "<tensorflow.python.training.tracking.util.CheckpointLoadStatus at 0x7f5a072bc8e0>"
      ]
     },
     "execution_count": 10,
     "metadata": {},
     "output_type": "execute_result"
    }
   ],
   "source": [
    "cwgan.generator.load_weights(save_dir + '/training_checkpoints/gen_560000')"
   ]
  },
  {
   "cell_type": "code",
   "execution_count": 11,
   "metadata": {},
   "outputs": [
    {
     "name": "stdout",
     "output_type": "stream",
     "text": [
      "CPU times: user 1min 8s, sys: 7.86 s, total: 1min 16s\n",
      "Wall time: 3.14 s\n"
     ]
    }
   ],
   "source": [
    "%%time\n",
    "predict = np.array(cwgan.make_generator_predictions(normalized_data))"
   ]
  },
  {
   "cell_type": "code",
   "execution_count": 12,
   "metadata": {},
   "outputs": [],
   "source": [
    "predict = predict * reco_std + reco_mean\n",
    "predict[:, 0] = 10**predict[:, 0]\n",
    "#reco_data[:, 0] = np.power(reco_data[:, 0], 10)\n",
    "predict[:, 3] = 10**predict[:, 3]"
   ]
  },
  {
   "cell_type": "code",
   "execution_count": 14,
   "metadata": {},
   "outputs": [],
   "source": [
    "bins = np.loadtxt('../bins.txt')\n",
    "bins_hist = np.zeros(len(bins))"
   ]
  },
  {
   "cell_type": "code",
   "execution_count": 15,
   "metadata": {},
   "outputs": [],
   "source": [
    "shuffled_bins = np.loadtxt(\"../shuffled_bins.txt\")"
   ]
  },
  {
   "cell_type": "code",
   "execution_count": 16,
   "metadata": {},
   "outputs": [],
   "source": [
    "shuffled_bins_hist = np.zeros(len(shuffled_bins))"
   ]
  },
  {
   "cell_type": "code",
   "execution_count": 17,
   "metadata": {},
   "outputs": [
    {
     "name": "stdout",
     "output_type": "stream",
     "text": [
      "0.0\n",
      "0.1\n",
      "0.2\n",
      "0.3\n",
      "0.4\n",
      "0.5\n",
      "0.6\n",
      "0.7\n",
      "0.8\n",
      "0.9\n"
     ]
    }
   ],
   "source": [
    "for i in range(450000):\n",
    "    if (i % 45000 == 0):\n",
    "        print(i/450000)\n",
    "    for j in range(len(shuffled_bins)):\n",
    "        if (data[450000+i, 4] >= shuffled_bins[j, 0] and data[450000+i, 4] <= shuffled_bins[j, 4] and\n",
    "            data[450000+i, 5] >= shuffled_bins[j, 1] and data[450000+i, 5] <= shuffled_bins[j, 5] and\n",
    "            data[450000+i, 6] >= shuffled_bins[j, 2] and data[450000+i, 6] <= shuffled_bins[j, 6] and\n",
    "            data[450000+i, 7] >= shuffled_bins[j, 3] and data[450000+i, 7] <= shuffled_bins[j, 7]):\n",
    "            shuffled_bins_hist[j] = shuffled_bins_hist[j] + 1"
   ]
  },
  {
   "cell_type": "code",
   "execution_count": 18,
   "metadata": {},
   "outputs": [
    {
     "name": "stdout",
     "output_type": "stream",
     "text": [
      "300\n",
      "[1491. 1601. 1470. 1562. 1578. 1389. 1514. 1504. 1557. 1514. 1536. 1587.\n",
      " 1577. 1575. 1469. 1494. 1493. 1466. 1478. 1408. 1512. 1526. 1380. 1603.\n",
      " 1486. 1564. 1557. 1504. 1467. 1505. 1424. 1505. 1535. 1515. 1502. 1566.\n",
      " 1477. 1564. 1570. 1424. 1424. 1505. 1470. 1565. 1446. 1543. 1457. 1626.\n",
      " 1534. 1462. 1564. 1510. 1430. 1479. 1503. 1496. 1570. 1356. 1491. 1458.\n",
      " 1447. 1537. 1485. 1461. 1422. 1443. 1528. 1568. 1518. 1465. 1561. 1456.\n",
      " 1501. 1493. 1510. 1488. 1519. 1545. 1479. 1571. 1547. 1418. 1470. 1457.\n",
      " 1539. 1494. 1543. 1488. 1507. 1435. 1558. 1515. 1354. 1473. 1423. 1510.\n",
      " 1486. 1486. 1506. 1411. 1576. 1409. 1472. 1467. 1465. 1516. 1522. 1529.\n",
      " 1497. 1457. 1568. 1380. 1426. 1567. 1524. 1518. 1559. 1490. 1547. 1425.\n",
      " 1475. 1405. 1493. 1527. 1526. 1493. 1521. 1446. 1499. 1522. 1491. 1572.\n",
      " 1396. 1479. 1382. 1547. 1440. 1489. 1515. 1550. 1439. 1468. 1570. 1458.\n",
      " 1500. 1522. 1569. 1535. 1622. 1466. 1540. 1483. 1488. 1581. 1497. 1558.\n",
      " 1397. 1667. 1533. 1515. 1444. 1454. 1463. 1462. 1488. 1504. 1495. 1562.\n",
      " 1441. 1561. 1561. 1422. 1575. 1450. 1555. 1494. 1529. 1489. 1418. 1530.\n",
      " 1503. 1546. 1452. 1540. 1495. 1566. 1518. 1557. 1563. 1467. 1577. 1520.\n",
      " 1395. 1486. 1432. 1543. 1566. 1515. 1517. 1569. 1494. 1465. 1496. 1541.\n",
      " 1451. 1393. 1557. 1410. 1485. 1474. 1556. 1561. 1493. 1442. 1474. 1475.\n",
      " 1487. 1464. 1544. 1501. 1480. 1457. 1532. 1480. 1579. 1440. 1510. 1538.\n",
      " 1477. 1535. 1462. 1510. 1565. 1419. 1435. 1482. 1543. 1428. 1449. 1494.\n",
      " 1571. 1463. 1485. 1498. 1479. 1475. 1587. 1564. 1295. 1468. 1491. 1447.\n",
      " 1510. 1549. 1460. 1461. 1408. 1518. 1505. 1488. 1498. 1429. 1538. 1522.\n",
      " 1524. 1409. 1544. 1533. 1514. 1475. 1581. 1601. 1457. 1516. 1541. 1557.\n",
      " 1521. 1435. 1514. 1551. 1486. 1507. 1601. 1536. 1460. 1567. 1593. 1592.\n",
      " 1486. 1455. 1479. 1449. 1558. 1469. 1498. 1423. 1526. 1429. 1581. 1490.]\n"
     ]
    }
   ],
   "source": [
    "print(len(shuffled_bins_hist))\n",
    "print(shuffled_bins_hist)"
   ]
  },
  {
   "cell_type": "code",
   "execution_count": 19,
   "metadata": {},
   "outputs": [
    {
     "data": {
      "image/png": "[encoded data removed]",
      "text/plain": [
       "<Figure size 800x600 with 1 Axes>"
      ]
     },
     "metadata": {
      "needs_background": "light"
     },
     "output_type": "display_data"
    }
   ],
   "source": [
    "fig = plt.figure(figsize=(8,6), dpi=100)\n",
    "ax = fig.add_subplot(111)\n",
    "ax.bar(np.arange(len(shuffled_bins_hist)), shuffled_bins_hist, width=1)\n",
    "#plt.xlim(-1,21)\n",
    "ax.set_xlabel(\"Bin number\")\n",
    "ax.set_ylabel(\"Number of jets\")\n",
    "ax.axhline(1500, c='r')\n",
    "plt.show()\n"
   ]
  },
  {
   "cell_type": "code",
   "execution_count": 20,
   "metadata": {},
   "outputs": [
    {
     "name": "stdout",
     "output_type": "stream",
     "text": [
      "54.25241459040223\n",
      "1500.0466666666666\n"
     ]
    },
    {
     "data": {
      "image/png": "[encoded data removed]",
      "text/plain": [
       "<Figure size 800x600 with 1 Axes>"
      ]
     },
     "metadata": {
      "needs_background": "light"
     },
     "output_type": "display_data"
    }
   ],
   "source": [
    "shuffled_mean = np.mean(shuffled_bins_hist)\n",
    "shuffled_std_dev = np.std(shuffled_bins_hist)\n",
    "print(shuffled_std_dev)\n",
    "print(shuffled_mean)\n",
    "x = np.linspace(1300, 1650, 100)\n",
    "y = normal_dist(x, shuffled_mean, shuffled_std_dev)\n",
    "fig = plt.figure(figsize=(8,6), dpi=100)\n",
    "ax = fig.add_subplot(111)\n",
    "ax.hist(shuffled_bins_hist, bins=20)\n",
    "ax.set_title(r\"Mean={:.2f}, $\\sigma=${:.2f}\".format(np.mean(shuffled_bins_hist), np.std(shuffled_bins_hist)))\n",
    "#ax.plot(x, 30*y)\n",
    "plt.show()"
   ]
  },
  {
   "cell_type": "code",
   "execution_count": 21,
   "metadata": {},
   "outputs": [
    {
     "name": "stdout",
     "output_type": "stream",
     "text": [
      "0.0\n",
      "0.1\n",
      "0.2\n",
      "0.3\n",
      "0.4\n",
      "0.5\n",
      "0.6\n",
      "0.7\n",
      "0.8\n",
      "0.9\n"
     ]
    }
   ],
   "source": [
    "for i in range(450000):\n",
    "    if (i % 45000 == 0):\n",
    "        print(i/450000)\n",
    "    for j in range(len(bins)):\n",
    "        if (predict[450000+i, 0] >= shuffled_bins[j, 0] and predict[450000+i, 0] <= shuffled_bins[j, 4] and\n",
    "            predict[450000+i, 1] >= shuffled_bins[j, 1] and predict[450000+i, 1] <= shuffled_bins[j, 5] and\n",
    "            predict[450000+i, 2] >= shuffled_bins[j, 2] and predict[450000+i, 2] <= shuffled_bins[j, 6] and\n",
    "            predict[450000+i, 3] >= shuffled_bins[j, 3] and predict[450000+i, 3] <= shuffled_bins[j, 7]):\n",
    "            bins_hist[j] = bins_hist[j] + 1"
   ]
  },
  {
   "cell_type": "code",
   "execution_count": 22,
   "metadata": {},
   "outputs": [
    {
     "name": "stdout",
     "output_type": "stream",
     "text": [
      "300\n",
      "447204.0\n",
      "447204.0\n"
     ]
    },
    {
     "data": {
      "image/png": "[encoded data removed]",
      "text/plain": [
       "<Figure size 800x600 with 1 Axes>"
      ]
     },
     "metadata": {
      "needs_background": "light"
     },
     "output_type": "display_data"
    }
   ],
   "source": [
    "print(len(bins_hist))\n",
    "print(len(bins_hist)*np.mean(bins_hist))\n",
    "print(sum(bins_hist))\n",
    "fig = plt.figure(figsize=(8,6), dpi=100)\n",
    "ax = fig.add_subplot(111)\n",
    "ax.bar(np.arange(len(bins_hist)), bins_hist, width=1)\n",
    "#plt.xlim(-1,21)\n",
    "ax.set_xlabel(\"Bin number\")\n",
    "ax.set_ylabel(\"Number of jets\")\n",
    "ax.axhline(1500, c='r')\n",
    "plt.show()"
   ]
  },
  {
   "cell_type": "code",
   "execution_count": 23,
   "metadata": {},
   "outputs": [
    {
     "name": "stdout",
     "output_type": "stream",
     "text": [
      "70.76489902015923\n",
      "1490.68\n",
      "447204.0\n"
     ]
    },
    {
     "data": {
      "image/png": "[encoded data removed]",
      "text/plain": [
       "<Figure size 800x600 with 1 Axes>"
      ]
     },
     "metadata": {
      "needs_background": "light"
     },
     "output_type": "display_data"
    }
   ],
   "source": [
    "print(np.std(bins_hist))\n",
    "print(np.mean(bins_hist))\n",
    "print(np.mean(bins_hist)*len(bins_hist))\n",
    "fig = plt.figure(figsize=(8,6), dpi=100)\n",
    "ax = fig.add_subplot(111)\n",
    "ax.hist(bins_hist, bins=20)\n",
    "ax.set_xlabel(\"Number of jets in a bin\")\n",
    "ax.set_ylabel(\"Number of bins\")\n",
    "ax.set_title(r\"Mean={:.2f}, $\\sigma=${:.2f}\".format(np.mean(bins_hist), np.std(bins_hist)))\n",
    "plt.show()"
   ]
  },
  {
   "cell_type": "code",
   "execution_count": null,
   "metadata": {},
   "outputs": [],
   "source": [
    "print(ks_2samp(bins_hist, shuffled_bins_hist))"
   ]
  },
  {
   "cell_type": "code",
   "execution_count": null,
   "metadata": {},
   "outputs": [],
   "source": []
  }
 ],
 "metadata": {
  "kernelspec": {
   "display_name": "Python 3",
   "language": "python",
   "name": "python3"
  },
  "language_info": {
   "codemirror_mode": {
    "name": "ipython",
    "version": 3
   },
   "file_extension": ".py",
   "mimetype": "text/x-python",
   "name": "python",
   "nbconvert_exporter": "python",
   "pygments_lexer": "ipython3",
   "version": "3.8.5"
  }
 },
 "nbformat": 4,
 "nbformat_minor": 4
}
